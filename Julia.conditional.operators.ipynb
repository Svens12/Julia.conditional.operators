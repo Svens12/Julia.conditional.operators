{
 "cells": [
  {
   "cell_type": "code",
   "execution_count": 1,
   "id": "95e2275a",
   "metadata": {},
   "outputs": [
    {
     "data": {
      "text/plain": [
       "10"
      ]
     },
     "execution_count": 1,
     "metadata": {},
     "output_type": "execute_result"
    }
   ],
   "source": [
    "a=10"
   ]
  },
  {
   "cell_type": "code",
   "execution_count": 3,
   "id": "c7413f9a",
   "metadata": {},
   "outputs": [
    {
     "data": {
      "text/plain": [
       "\"No\""
      ]
     },
     "execution_count": 3,
     "metadata": {},
     "output_type": "execute_result"
    }
   ],
   "source": [
    "a > 10 ? \"Yes\" : \"No\""
   ]
  },
  {
   "cell_type": "code",
   "execution_count": 4,
   "id": "e70e0ab2",
   "metadata": {},
   "outputs": [
    {
     "data": {
      "text/plain": [
       "\"No\""
      ]
     },
     "execution_count": 4,
     "metadata": {},
     "output_type": "execute_result"
    }
   ],
   "source": [
    "a < 10 ? \"Yes\" : \"No\""
   ]
  },
  {
   "cell_type": "code",
   "execution_count": 5,
   "id": "2790ccc9",
   "metadata": {},
   "outputs": [
    {
     "data": {
      "text/plain": [
       "\"Yes\""
      ]
     },
     "execution_count": 5,
     "metadata": {},
     "output_type": "execute_result"
    }
   ],
   "source": [
    "a <= 10 ? \"Yes\" : \"No\""
   ]
  },
  {
   "cell_type": "code",
   "execution_count": 6,
   "id": "37105f9f",
   "metadata": {},
   "outputs": [
    {
     "data": {
      "text/plain": [
       "20"
      ]
     },
     "execution_count": 6,
     "metadata": {},
     "output_type": "execute_result"
    }
   ],
   "source": [
    "b=20"
   ]
  },
  {
   "cell_type": "code",
   "execution_count": 7,
   "id": "9a319114",
   "metadata": {},
   "outputs": [
    {
     "data": {
      "text/plain": [
       "true"
      ]
     },
     "execution_count": 7,
     "metadata": {},
     "output_type": "execute_result"
    }
   ],
   "source": [
    "a >= 10 || b < 20"
   ]
  },
  {
   "cell_type": "code",
   "execution_count": 8,
   "id": "a736fb13",
   "metadata": {},
   "outputs": [
    {
     "data": {
      "text/plain": [
       "false"
      ]
     },
     "execution_count": 8,
     "metadata": {},
     "output_type": "execute_result"
    }
   ],
   "source": [
    "a > 10 || b < 20"
   ]
  },
  {
   "cell_type": "code",
   "execution_count": 9,
   "id": "28c39aa0",
   "metadata": {},
   "outputs": [
    {
     "data": {
      "text/plain": [
       "false"
      ]
     },
     "execution_count": 9,
     "metadata": {},
     "output_type": "execute_result"
    }
   ],
   "source": [
    "a >= 10 && b < 20"
   ]
  },
  {
   "cell_type": "code",
   "execution_count": 10,
   "id": "e940d30c",
   "metadata": {},
   "outputs": [
    {
     "name": "stdout",
     "output_type": "stream",
     "text": [
      "a is equal to 10"
     ]
    }
   ],
   "source": [
    "if a>10\n",
    "    print(\"a is greater than 10\")\n",
    "elseif a<10\n",
    "    print(\"a is less than 10\")\n",
    "else \n",
    "    print(\"a is equal to 10\")\n",
    "end    "
   ]
  },
  {
   "cell_type": "code",
   "execution_count": 13,
   "id": "9bca92c6",
   "metadata": {},
   "outputs": [
    {
     "data": {
      "text/plain": [
       "\"United States\""
      ]
     },
     "execution_count": 13,
     "metadata": {},
     "output_type": "execute_result"
    }
   ],
   "source": [
    "country = \"United States\""
   ]
  },
  {
   "cell_type": "code",
   "execution_count": 15,
   "id": "c8aa47c0",
   "metadata": {},
   "outputs": [
    {
     "name": "stdout",
     "output_type": "stream",
     "text": [
      "You mentioned United States"
     ]
    }
   ],
   "source": [
    "if country == \"United States\"\n",
    "    print(\"You mentioned United States\")\n",
    "else\n",
    "    print(\"You are in a country other than United States\")\n",
    "end    "
   ]
  },
  {
   "cell_type": "code",
   "execution_count": 16,
   "id": "9f2c8efa",
   "metadata": {},
   "outputs": [
    {
     "data": {
      "text/plain": [
       "\"Russia\""
      ]
     },
     "execution_count": 16,
     "metadata": {},
     "output_type": "execute_result"
    }
   ],
   "source": [
    "country = \"Russia\""
   ]
  },
  {
   "cell_type": "code",
   "execution_count": 17,
   "id": "93e32f6c",
   "metadata": {},
   "outputs": [
    {
     "name": "stdout",
     "output_type": "stream",
     "text": [
      "You are in a country other than United States"
     ]
    }
   ],
   "source": [
    "if country == \"United States\"\n",
    "    print(\"You mentioned United States\")\n",
    "else\n",
    "    print(\"You are in a country other than United States\")\n",
    "end "
   ]
  },
  {
   "cell_type": "code",
   "execution_count": null,
   "id": "da3abeb2",
   "metadata": {},
   "outputs": [],
   "source": []
  }
 ],
 "metadata": {
  "kernelspec": {
   "display_name": "Julia 1.8.3",
   "language": "julia",
   "name": "julia-1.8"
  },
  "language_info": {
   "file_extension": ".jl",
   "mimetype": "application/julia",
   "name": "julia",
   "version": "1.8.3"
  }
 },
 "nbformat": 4,
 "nbformat_minor": 5
}
